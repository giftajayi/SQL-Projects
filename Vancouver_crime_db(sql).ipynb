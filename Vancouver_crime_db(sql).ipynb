{
  "nbformat": 4,
  "nbformat_minor": 0,
  "metadata": {
    "colab": {
      "provenance": [],
      "include_colab_link": true
    },
    "kernelspec": {
      "name": "python3",
      "display_name": "Python 3"
    },
    "language_info": {
      "name": "python"
    }
  },
  "cells": [
    {
      "cell_type": "markdown",
      "metadata": {
        "id": "view-in-github",
        "colab_type": "text"
      },
      "source": [
        "<a href=\"https://colab.research.google.com/github/giftajayi/Vancouver-Crime-SQL/blob/main/Vancouver_crime_db(sql).ipynb\" target=\"_parent\"><img src=\"https://colab.research.google.com/assets/colab-badge.svg\" alt=\"Open In Colab\"/></a>"
      ]
    },
    {
      "cell_type": "markdown",
      "source": [
        "This project focuses on importing crime data from a Google Sheets document into an SQLite database and performing various SQL operations to analyze the data. The process begins by reading the data from a Google Sheets URL into a pandas DataFrame. The DataFrame is then chunked into smaller pieces for efficient processing and inserted into a SQLite database named `vancouver_crime.db`. A table named `crime_data` is created to store various details about the crimes, such as the type, date, time, location, and geographical coordinates.\n",
        "\n",
        "\n",
        "After populating the database, several SQL queries are executed to perform data analysis. This includes updating the database to handle missing values, counting crimes per neighborhood, identifying neighborhoods with the highest and lowest crime counts, and calculating average and maximum crimes per year. These operations provide insights into crime patterns and distributions within the dataset. The use of chunking ensures efficient data handling, and the structured approach of SQL queries facilitates robust data analysis and management."
      ],
      "metadata": {
        "id": "0QJTO2Q_gbgq"
      }
    },
    {
      "cell_type": "code",
      "execution_count": null,
      "metadata": {
        "id": "dLbcncPYa9Sq"
      },
      "outputs": [],
      "source": [
        "#@title Importing data and creating a dataframe\n",
        "import pandas as pd\n",
        "import sqlite3\n",
        "\n",
        "google_sheet_url = 'https://docs.google.com/spreadsheets/d/1ZebuCQcO5t-dcXT7WP5lExa4NEwsDwexHVndh-YXnUs/edit?usp=sharing'\n",
        "csv_export_url = google_sheet_url.replace('/edit?usp=sharing', '/export?format=csv')\n",
        "df = pd.read_csv(csv_export_url)"
      ]
    },
    {
      "cell_type": "code",
      "source": [
        "#@title Creating the table using SQLite\n",
        "def df_chunker(seq, size):\n",
        "    return (seq[pos:pos + size] for pos in range(0, len(seq), size))\n",
        "\n",
        "chunk_size = 1000\n",
        "conn = sqlite3.connect('vancouver_crime.db')\n",
        "\n",
        "create_table_query = '''\n",
        "CREATE TABLE IF NOT EXISTS crime_data (\n",
        "  ID INTEGER PRIMARY KEY NOT NULL,\n",
        "  TYPE TEXT NOT NULL,\n",
        "  YEAR INTEGER NOT NULL,\n",
        "  MONTH INTEGER NOT NULL,\n",
        "  DAY INTEGER NOT NULL,\n",
        "  HOUR REAL,\n",
        "  MINUTE REAL,\n",
        "  HUNDRED_BLOCK TEXT,\n",
        "  NEIGHBOURHOOD TEXT,\n",
        "  X REAL,\n",
        "  Y REAL,\n",
        "  Latitude REAL,\n",
        "  Longitude REAL\n",
        ")\n",
        "'''\n",
        "conn.execute(create_table_query)\n",
        "\n",
        "for chunk in df_chunker(df, chunk_size):\n",
        "    chunk.to_sql('crime_data', conn, if_exists='append', index=False, method=None)\n",
        "\n",
        "conn.close()"
      ],
      "metadata": {
        "id": "XS7xGhr2chUV"
      },
      "execution_count": null,
      "outputs": []
    },
    {
      "cell_type": "markdown",
      "source": [
        "Loading the SQL magic and connecting to vancouver_crime database"
      ],
      "metadata": {
        "id": "5Le3odvccwcI"
      }
    },
    {
      "cell_type": "code",
      "source": [
        "%load_ext sql\n",
        "\n",
        "%sql sqlite:///vancouver_crime.db\n"
      ],
      "metadata": {
        "id": "-yeos2JncqUb"
      },
      "execution_count": null,
      "outputs": []
    },
    {
      "cell_type": "markdown",
      "source": [
        "Updating the neighbourhood column to change all rows that have NULL values to 'undefined'."
      ],
      "metadata": {
        "id": "tsrJp3ModAK6"
      }
    },
    {
      "cell_type": "code",
      "source": [
        "%%sql\n",
        "SELECT * from crime_data LIMIT 10;"
      ],
      "metadata": {
        "colab": {
          "base_uri": "https://localhost:8080/",
          "height": 288
        },
        "id": "PXl-HYt9dDcI",
        "outputId": "57aede50-42c2-4fc1-acbc-5aeb623ec6d0"
      },
      "execution_count": null,
      "outputs": [
        {
          "output_type": "stream",
          "name": "stdout",
          "text": [
            " * sqlite:///vancouver_crime.db\n",
            "Done.\n"
          ]
        },
        {
          "output_type": "execute_result",
          "data": {
            "text/plain": [
              "[(1, 'Other Theft', 2003, 5, 12, 16.0, 15.0, '9XX TERMINAL AVE', 'Strathcona', 493906.5, 5457452.47, 49.26980201, -123.0837633),\n",
              " (2, 'Other Theft', 2003, 5, 7, 15.0, 20.0, '9XX TERMINAL AVE', 'Strathcona', 493906.5, 5457452.47, 49.26980201, -123.0837633),\n",
              " (3, 'Other Theft', 2003, 4, 23, 16.0, 40.0, '9XX TERMINAL AVE', 'Strathcona', 493906.5, 5457452.47, 49.26980201, -123.0837633),\n",
              " (4, 'Other Theft', 2003, 4, 20, 11.0, 15.0, '9XX TERMINAL AVE', 'Strathcona', 493906.5, 5457452.47, 49.26980201, -123.0837633),\n",
              " (5, 'Other Theft', 2003, 4, 12, 17.0, 45.0, '9XX TERMINAL AVE', 'Strathcona', 493906.5, 5457452.47, 49.26980201, -123.0837633),\n",
              " (6, 'Other Theft', 2003, 3, 26, 20.0, 45.0, '9XX TERMINAL AVE', 'Strathcona', 493906.5, 5457452.47, 49.26980201, -123.0837633),\n",
              " (7, 'Break and Enter Residential/Other', 2003, 3, 10, 12.0, 0.0, '63XX WILTSHIRE ST', 'Kerrisdale', 489325.58, 5452817.95, 49.22805078, -123.1466105),\n",
              " (8, 'Mischief', 2003, 6, 28, 4.0, 13.0, '40XX W 19TH AVE', 'Dunbar-Southlands', 485903.09, 5455883.77, 49.25555918, -123.1937252),\n",
              " (9, 'Other Theft', 2003, 2, 16, 9.0, 2.0, '9XX TERMINAL AVE', 'Strathcona', 493906.5, 5457452.47, 49.26980201, -123.0837633),\n",
              " (10, 'Break and Enter Residential/Other', 2003, 7, 9, 18.0, 15.0, '18XX E 3RD AVE', 'Grandview-Woodland', 495078.19, 5457221.38, 49.26773386, -123.067654)]"
            ],
            "text/html": [
              "<table>\n",
              "    <thead>\n",
              "        <tr>\n",
              "            <th>ID</th>\n",
              "            <th>TYPE</th>\n",
              "            <th>YEAR</th>\n",
              "            <th>MONTH</th>\n",
              "            <th>DAY</th>\n",
              "            <th>HOUR</th>\n",
              "            <th>MINUTE</th>\n",
              "            <th>HUNDRED_BLOCK</th>\n",
              "            <th>NEIGHBOURHOOD</th>\n",
              "            <th>X</th>\n",
              "            <th>Y</th>\n",
              "            <th>Latitude</th>\n",
              "            <th>Longitude</th>\n",
              "        </tr>\n",
              "    </thead>\n",
              "    <tbody>\n",
              "        <tr>\n",
              "            <td>1</td>\n",
              "            <td>Other Theft</td>\n",
              "            <td>2003</td>\n",
              "            <td>5</td>\n",
              "            <td>12</td>\n",
              "            <td>16.0</td>\n",
              "            <td>15.0</td>\n",
              "            <td>9XX TERMINAL AVE</td>\n",
              "            <td>Strathcona</td>\n",
              "            <td>493906.5</td>\n",
              "            <td>5457452.47</td>\n",
              "            <td>49.26980201</td>\n",
              "            <td>-123.0837633</td>\n",
              "        </tr>\n",
              "        <tr>\n",
              "            <td>2</td>\n",
              "            <td>Other Theft</td>\n",
              "            <td>2003</td>\n",
              "            <td>5</td>\n",
              "            <td>7</td>\n",
              "            <td>15.0</td>\n",
              "            <td>20.0</td>\n",
              "            <td>9XX TERMINAL AVE</td>\n",
              "            <td>Strathcona</td>\n",
              "            <td>493906.5</td>\n",
              "            <td>5457452.47</td>\n",
              "            <td>49.26980201</td>\n",
              "            <td>-123.0837633</td>\n",
              "        </tr>\n",
              "        <tr>\n",
              "            <td>3</td>\n",
              "            <td>Other Theft</td>\n",
              "            <td>2003</td>\n",
              "            <td>4</td>\n",
              "            <td>23</td>\n",
              "            <td>16.0</td>\n",
              "            <td>40.0</td>\n",
              "            <td>9XX TERMINAL AVE</td>\n",
              "            <td>Strathcona</td>\n",
              "            <td>493906.5</td>\n",
              "            <td>5457452.47</td>\n",
              "            <td>49.26980201</td>\n",
              "            <td>-123.0837633</td>\n",
              "        </tr>\n",
              "        <tr>\n",
              "            <td>4</td>\n",
              "            <td>Other Theft</td>\n",
              "            <td>2003</td>\n",
              "            <td>4</td>\n",
              "            <td>20</td>\n",
              "            <td>11.0</td>\n",
              "            <td>15.0</td>\n",
              "            <td>9XX TERMINAL AVE</td>\n",
              "            <td>Strathcona</td>\n",
              "            <td>493906.5</td>\n",
              "            <td>5457452.47</td>\n",
              "            <td>49.26980201</td>\n",
              "            <td>-123.0837633</td>\n",
              "        </tr>\n",
              "        <tr>\n",
              "            <td>5</td>\n",
              "            <td>Other Theft</td>\n",
              "            <td>2003</td>\n",
              "            <td>4</td>\n",
              "            <td>12</td>\n",
              "            <td>17.0</td>\n",
              "            <td>45.0</td>\n",
              "            <td>9XX TERMINAL AVE</td>\n",
              "            <td>Strathcona</td>\n",
              "            <td>493906.5</td>\n",
              "            <td>5457452.47</td>\n",
              "            <td>49.26980201</td>\n",
              "            <td>-123.0837633</td>\n",
              "        </tr>\n",
              "        <tr>\n",
              "            <td>6</td>\n",
              "            <td>Other Theft</td>\n",
              "            <td>2003</td>\n",
              "            <td>3</td>\n",
              "            <td>26</td>\n",
              "            <td>20.0</td>\n",
              "            <td>45.0</td>\n",
              "            <td>9XX TERMINAL AVE</td>\n",
              "            <td>Strathcona</td>\n",
              "            <td>493906.5</td>\n",
              "            <td>5457452.47</td>\n",
              "            <td>49.26980201</td>\n",
              "            <td>-123.0837633</td>\n",
              "        </tr>\n",
              "        <tr>\n",
              "            <td>7</td>\n",
              "            <td>Break and Enter Residential/Other</td>\n",
              "            <td>2003</td>\n",
              "            <td>3</td>\n",
              "            <td>10</td>\n",
              "            <td>12.0</td>\n",
              "            <td>0.0</td>\n",
              "            <td>63XX WILTSHIRE ST</td>\n",
              "            <td>Kerrisdale</td>\n",
              "            <td>489325.58</td>\n",
              "            <td>5452817.95</td>\n",
              "            <td>49.22805078</td>\n",
              "            <td>-123.1466105</td>\n",
              "        </tr>\n",
              "        <tr>\n",
              "            <td>8</td>\n",
              "            <td>Mischief</td>\n",
              "            <td>2003</td>\n",
              "            <td>6</td>\n",
              "            <td>28</td>\n",
              "            <td>4.0</td>\n",
              "            <td>13.0</td>\n",
              "            <td>40XX W 19TH AVE</td>\n",
              "            <td>Dunbar-Southlands</td>\n",
              "            <td>485903.09</td>\n",
              "            <td>5455883.77</td>\n",
              "            <td>49.25555918</td>\n",
              "            <td>-123.1937252</td>\n",
              "        </tr>\n",
              "        <tr>\n",
              "            <td>9</td>\n",
              "            <td>Other Theft</td>\n",
              "            <td>2003</td>\n",
              "            <td>2</td>\n",
              "            <td>16</td>\n",
              "            <td>9.0</td>\n",
              "            <td>2.0</td>\n",
              "            <td>9XX TERMINAL AVE</td>\n",
              "            <td>Strathcona</td>\n",
              "            <td>493906.5</td>\n",
              "            <td>5457452.47</td>\n",
              "            <td>49.26980201</td>\n",
              "            <td>-123.0837633</td>\n",
              "        </tr>\n",
              "        <tr>\n",
              "            <td>10</td>\n",
              "            <td>Break and Enter Residential/Other</td>\n",
              "            <td>2003</td>\n",
              "            <td>7</td>\n",
              "            <td>9</td>\n",
              "            <td>18.0</td>\n",
              "            <td>15.0</td>\n",
              "            <td>18XX E 3RD AVE</td>\n",
              "            <td>Grandview-Woodland</td>\n",
              "            <td>495078.19</td>\n",
              "            <td>5457221.38</td>\n",
              "            <td>49.26773386</td>\n",
              "            <td>-123.067654</td>\n",
              "        </tr>\n",
              "    </tbody>\n",
              "</table>"
            ]
          },
          "metadata": {},
          "execution_count": 4
        }
      ]
    },
    {
      "cell_type": "code",
      "source": [
        "%%sql\n",
        "\n",
        "UPDATE crime_data\n",
        "SET neighbourhood = \"undefined\"\n",
        "WHERE neighbourhood is NULL;"
      ],
      "metadata": {
        "colab": {
          "base_uri": "https://localhost:8080/"
        },
        "id": "X557J0Q9dRVl",
        "outputId": "2d2c3b3e-49b9-4b39-b697-3568cb52066d"
      },
      "execution_count": null,
      "outputs": [
        {
          "output_type": "stream",
          "name": "stdout",
          "text": [
            " * sqlite:///vancouver_crime.db\n",
            "56624 rows affected.\n"
          ]
        },
        {
          "output_type": "execute_result",
          "data": {
            "text/plain": [
              "[]"
            ]
          },
          "metadata": {},
          "execution_count": 5
        }
      ]
    },
    {
      "cell_type": "markdown",
      "source": [
        "Composing an SQL query to retrieve the total number of crime records for each neighborhood. Utilizing a Common Table Expression (CTE) to generate a derived table named crime_count_per_neighbourhood containing the necessary information. Renaming the columns in the query result as Neighbourhood and num_crimes."
      ],
      "metadata": {
        "id": "ybK7tPWddX6V"
      }
    },
    {
      "cell_type": "code",
      "source": [
        "%%sql\n",
        "\n",
        "WITH crime_count_per_neighbourhood AS\n",
        "(\n",
        "  SELECT neighbourhood,\n",
        "  COUNT(neighbourhood) AS num_crimes\n",
        "  FROM crime_data\n",
        "  GROUP BY neighbourhood\n",
        "  ORDER BY num_crimes\n",
        ")\n",
        "SELECT *\n",
        "FROM crime_count_per_neighbourhood;\n"
      ],
      "metadata": {
        "colab": {
          "base_uri": "https://localhost:8080/",
          "height": 605
        },
        "id": "rOR_2agJdhWA",
        "outputId": "9d668f0d-3af1-49ef-ff8d-afbcefa72264"
      },
      "execution_count": null,
      "outputs": [
        {
          "output_type": "stream",
          "name": "stdout",
          "text": [
            " * sqlite:///vancouver_crime.db\n",
            "Done.\n"
          ]
        },
        {
          "output_type": "execute_result",
          "data": {
            "text/plain": [
              "[('Musqueam', 532),\n",
              " ('Stanley Park', 3775),\n",
              " ('South Cambie', 5212),\n",
              " ('Shaughnessy', 5426),\n",
              " ('West Point Grey', 5871),\n",
              " ('Arbutus Ridge', 6066),\n",
              " ('Kerrisdale', 7447),\n",
              " ('Dunbar-Southlands', 7746),\n",
              " ('Oakridge', 8037),\n",
              " ('Killarney', 10475),\n",
              " ('Victoria-Fraserview', 10819),\n",
              " ('Riley Park', 12521),\n",
              " ('Marpole', 13083),\n",
              " ('Sunset', 17396),\n",
              " ('Hastings-Sunrise', 18126),\n",
              " ('Strathcona', 20919),\n",
              " ('Kensington-Cedar Cottage', 24941),\n",
              " ('Kitsilano', 26699),\n",
              " ('Renfrew-Collingwood', 26761),\n",
              " ('Grandview-Woodland', 27180),\n",
              " ('Mount Pleasant', 30536),\n",
              " ('Fairview', 32161),\n",
              " ('West End', 41352),\n",
              " ('undefined', 56624),\n",
              " ('Central Business District', 110947)]"
            ],
            "text/html": [
              "<table>\n",
              "    <thead>\n",
              "        <tr>\n",
              "            <th>neighbourhood</th>\n",
              "            <th>num_crimes</th>\n",
              "        </tr>\n",
              "    </thead>\n",
              "    <tbody>\n",
              "        <tr>\n",
              "            <td>Musqueam</td>\n",
              "            <td>532</td>\n",
              "        </tr>\n",
              "        <tr>\n",
              "            <td>Stanley Park</td>\n",
              "            <td>3775</td>\n",
              "        </tr>\n",
              "        <tr>\n",
              "            <td>South Cambie</td>\n",
              "            <td>5212</td>\n",
              "        </tr>\n",
              "        <tr>\n",
              "            <td>Shaughnessy</td>\n",
              "            <td>5426</td>\n",
              "        </tr>\n",
              "        <tr>\n",
              "            <td>West Point Grey</td>\n",
              "            <td>5871</td>\n",
              "        </tr>\n",
              "        <tr>\n",
              "            <td>Arbutus Ridge</td>\n",
              "            <td>6066</td>\n",
              "        </tr>\n",
              "        <tr>\n",
              "            <td>Kerrisdale</td>\n",
              "            <td>7447</td>\n",
              "        </tr>\n",
              "        <tr>\n",
              "            <td>Dunbar-Southlands</td>\n",
              "            <td>7746</td>\n",
              "        </tr>\n",
              "        <tr>\n",
              "            <td>Oakridge</td>\n",
              "            <td>8037</td>\n",
              "        </tr>\n",
              "        <tr>\n",
              "            <td>Killarney</td>\n",
              "            <td>10475</td>\n",
              "        </tr>\n",
              "        <tr>\n",
              "            <td>Victoria-Fraserview</td>\n",
              "            <td>10819</td>\n",
              "        </tr>\n",
              "        <tr>\n",
              "            <td>Riley Park</td>\n",
              "            <td>12521</td>\n",
              "        </tr>\n",
              "        <tr>\n",
              "            <td>Marpole</td>\n",
              "            <td>13083</td>\n",
              "        </tr>\n",
              "        <tr>\n",
              "            <td>Sunset</td>\n",
              "            <td>17396</td>\n",
              "        </tr>\n",
              "        <tr>\n",
              "            <td>Hastings-Sunrise</td>\n",
              "            <td>18126</td>\n",
              "        </tr>\n",
              "        <tr>\n",
              "            <td>Strathcona</td>\n",
              "            <td>20919</td>\n",
              "        </tr>\n",
              "        <tr>\n",
              "            <td>Kensington-Cedar Cottage</td>\n",
              "            <td>24941</td>\n",
              "        </tr>\n",
              "        <tr>\n",
              "            <td>Kitsilano</td>\n",
              "            <td>26699</td>\n",
              "        </tr>\n",
              "        <tr>\n",
              "            <td>Renfrew-Collingwood</td>\n",
              "            <td>26761</td>\n",
              "        </tr>\n",
              "        <tr>\n",
              "            <td>Grandview-Woodland</td>\n",
              "            <td>27180</td>\n",
              "        </tr>\n",
              "        <tr>\n",
              "            <td>Mount Pleasant</td>\n",
              "            <td>30536</td>\n",
              "        </tr>\n",
              "        <tr>\n",
              "            <td>Fairview</td>\n",
              "            <td>32161</td>\n",
              "        </tr>\n",
              "        <tr>\n",
              "            <td>West End</td>\n",
              "            <td>41352</td>\n",
              "        </tr>\n",
              "        <tr>\n",
              "            <td>undefined</td>\n",
              "            <td>56624</td>\n",
              "        </tr>\n",
              "        <tr>\n",
              "            <td>Central Business District</td>\n",
              "            <td>110947</td>\n",
              "        </tr>\n",
              "    </tbody>\n",
              "</table>"
            ]
          },
          "metadata": {},
          "execution_count": 6
        }
      ]
    },
    {
      "cell_type": "markdown",
      "source": [
        "Developing an SQL query to determine the Neighbourhoods with the lowest and highest crime counts in a given dataset."
      ],
      "metadata": {
        "id": "BTjwt9gOdlJA"
      }
    },
    {
      "cell_type": "code",
      "source": [
        "%%sql\n",
        "\n",
        "WITH\n",
        "nighbourhoods_with_highest_crimes AS\n",
        "(\n",
        "  SELECT neighbourhood,\n",
        "         COUNT(neighbourhood),\n",
        "         MIN(neighbourhood)\n",
        "  FROM crime_data\n",
        "),\n",
        "nighbourhoods_with_lowest_crimes AS\n",
        "(\n",
        "  SELECT neighbourhood,\n",
        "         COUNT(neighbourhood),\n",
        "         MAX(neighbourhood)\n",
        "  FROM crime_data\n",
        ")\n",
        "SELECT * FROM nighbourhoods_with_highest_crimes\n",
        "UNION\n",
        "SELECT * FROM nighbourhoods_with_lowest_crimes;\n",
        "\n",
        "\n"
      ],
      "metadata": {
        "colab": {
          "base_uri": "https://localhost:8080/",
          "height": 119
        },
        "id": "pwnrv-ohd4u7",
        "outputId": "1577c0b4-ce5d-428a-f8f4-5daba2227517"
      },
      "execution_count": null,
      "outputs": [
        {
          "output_type": "stream",
          "name": "stdout",
          "text": [
            " * sqlite:///vancouver_crime.db\n",
            "Done.\n"
          ]
        },
        {
          "output_type": "execute_result",
          "data": {
            "text/plain": [
              "[('Arbutus Ridge', 530652, 'Arbutus Ridge'),\n",
              " ('undefined', 530652, 'undefined')]"
            ],
            "text/html": [
              "<table>\n",
              "    <thead>\n",
              "        <tr>\n",
              "            <th>neighbourhood</th>\n",
              "            <th>COUNT(neighbourhood)</th>\n",
              "            <th>MIN(neighbourhood)</th>\n",
              "        </tr>\n",
              "    </thead>\n",
              "    <tbody>\n",
              "        <tr>\n",
              "            <td>Arbutus Ridge</td>\n",
              "            <td>530652</td>\n",
              "            <td>Arbutus Ridge</td>\n",
              "        </tr>\n",
              "        <tr>\n",
              "            <td>undefined</td>\n",
              "            <td>530652</td>\n",
              "            <td>undefined</td>\n",
              "        </tr>\n",
              "    </tbody>\n",
              "</table>"
            ]
          },
          "metadata": {},
          "execution_count": 7
        }
      ]
    },
    {
      "cell_type": "markdown",
      "source": [
        "Determining the max average number of crimes per year with the month they happened."
      ],
      "metadata": {
        "id": "QJDSGDqtd7i2"
      }
    },
    {
      "cell_type": "code",
      "source": [
        "%%sql\n",
        "\n",
        "WITH\n",
        "max_avg_crimes_per_year AS\n",
        "(\n",
        "  SELECT Year, Month, COUNT(Neighbourhood) AS max_avg_crimes_per_year\n",
        "\n",
        "  FROM crime_data\n",
        "  GROUP BY Year\n",
        "),\n",
        "avg_crimes_per_month_per_year AS\n",
        "(\n",
        "  SELECT Year, Month, AVG(Neighbourhood)\n",
        "\n",
        "  FROM crime_data\n",
        "\n",
        "),\n",
        "max_crimes_per_year AS\n",
        "(\n",
        "  SELECT Year, Month, MAX(Neighbourhood)\n",
        ")\n",
        "\n",
        "\n",
        "SELECT * FROM max_avg_crimes_per_year;"
      ],
      "metadata": {
        "colab": {
          "base_uri": "https://localhost:8080/",
          "height": 393
        },
        "id": "GBzdRwkseLLo",
        "outputId": "2bd3c05a-4066-4a1c-ab94-7ef0eeb8eec7"
      },
      "execution_count": null,
      "outputs": [
        {
          "output_type": "stream",
          "name": "stdout",
          "text": [
            " * sqlite:///vancouver_crime.db\n",
            "Done.\n"
          ]
        },
        {
          "output_type": "execute_result",
          "data": {
            "text/plain": [
              "[(2003, 5, 49928),\n",
              " (2004, 10, 49279),\n",
              " (2005, 6, 44664),\n",
              " (2006, 8, 42322),\n",
              " (2007, 4, 37692),\n",
              " (2008, 10, 35414),\n",
              " (2009, 1, 32172),\n",
              " (2010, 1, 29688),\n",
              " (2011, 6, 28573),\n",
              " (2012, 10, 29222),\n",
              " (2013, 6, 29056),\n",
              " (2014, 12, 32659),\n",
              " (2015, 2, 34328),\n",
              " (2016, 8, 37798),\n",
              " (2017, 5, 17857)]"
            ],
            "text/html": [
              "<table>\n",
              "    <thead>\n",
              "        <tr>\n",
              "            <th>Year</th>\n",
              "            <th>Month</th>\n",
              "            <th>max_avg_crimes_per_year</th>\n",
              "        </tr>\n",
              "    </thead>\n",
              "    <tbody>\n",
              "        <tr>\n",
              "            <td>2003</td>\n",
              "            <td>5</td>\n",
              "            <td>49928</td>\n",
              "        </tr>\n",
              "        <tr>\n",
              "            <td>2004</td>\n",
              "            <td>10</td>\n",
              "            <td>49279</td>\n",
              "        </tr>\n",
              "        <tr>\n",
              "            <td>2005</td>\n",
              "            <td>6</td>\n",
              "            <td>44664</td>\n",
              "        </tr>\n",
              "        <tr>\n",
              "            <td>2006</td>\n",
              "            <td>8</td>\n",
              "            <td>42322</td>\n",
              "        </tr>\n",
              "        <tr>\n",
              "            <td>2007</td>\n",
              "            <td>4</td>\n",
              "            <td>37692</td>\n",
              "        </tr>\n",
              "        <tr>\n",
              "            <td>2008</td>\n",
              "            <td>10</td>\n",
              "            <td>35414</td>\n",
              "        </tr>\n",
              "        <tr>\n",
              "            <td>2009</td>\n",
              "            <td>1</td>\n",
              "            <td>32172</td>\n",
              "        </tr>\n",
              "        <tr>\n",
              "            <td>2010</td>\n",
              "            <td>1</td>\n",
              "            <td>29688</td>\n",
              "        </tr>\n",
              "        <tr>\n",
              "            <td>2011</td>\n",
              "            <td>6</td>\n",
              "            <td>28573</td>\n",
              "        </tr>\n",
              "        <tr>\n",
              "            <td>2012</td>\n",
              "            <td>10</td>\n",
              "            <td>29222</td>\n",
              "        </tr>\n",
              "        <tr>\n",
              "            <td>2013</td>\n",
              "            <td>6</td>\n",
              "            <td>29056</td>\n",
              "        </tr>\n",
              "        <tr>\n",
              "            <td>2014</td>\n",
              "            <td>12</td>\n",
              "            <td>32659</td>\n",
              "        </tr>\n",
              "        <tr>\n",
              "            <td>2015</td>\n",
              "            <td>2</td>\n",
              "            <td>34328</td>\n",
              "        </tr>\n",
              "        <tr>\n",
              "            <td>2016</td>\n",
              "            <td>8</td>\n",
              "            <td>37798</td>\n",
              "        </tr>\n",
              "        <tr>\n",
              "            <td>2017</td>\n",
              "            <td>5</td>\n",
              "            <td>17857</td>\n",
              "        </tr>\n",
              "    </tbody>\n",
              "</table>"
            ]
          },
          "metadata": {},
          "execution_count": 8
        }
      ]
    }
  ]
}